{
  "nbformat": 4,
  "nbformat_minor": 0,
  "metadata": {
    "colab": {
      "name": "textcnn.ipynb",
      "version": "0.3.2",
      "provenance": [],
      "collapsed_sections": [],
      "toc_visible": true
    },
    "kernelspec": {
      "name": "python3",
      "display_name": "Python 3"
    },
    "accelerator": "GPU"
  },
  "cells": [
    {
      "metadata": {
        "id": "Advw2Hqe4QVt",
        "colab_type": "text"
      },
      "cell_type": "markdown",
      "source": [
        "# TextCNN"
      ]
    },
    {
      "metadata": {
        "id": "Dn9YTqpbvM8X",
        "colab_type": "code",
        "colab": {}
      },
      "cell_type": "code",
      "source": [
        "from google.colab import drive\n",
        "drive.mount('/gdrive')\n",
        "!pip install -q jieba pydot graphviz\n",
        "!apt-get install graphviz > /dev/null"
      ],
      "execution_count": 0,
      "outputs": []
    },
    {
      "metadata": {
        "id": "fT-gc3uHXgPw",
        "colab_type": "code",
        "colab": {}
      },
      "cell_type": "code",
      "source": [
        "import time\n",
        "import jieba\n",
        "import pickle\n",
        "import numpy as np\n",
        "import pandas as pd\n",
        "import tensorflow as tf\n",
        "import keras.backend as K\n",
        "from sklearn.model_selection import train_test_split\n",
        "from sklearn.metrics import f1_score\n",
        "from keras.preprocessing.sequence import pad_sequences\n",
        "from keras.layers import Input, Embedding, Conv1D, MaxPooling1D\n",
        "from keras.layers import Dropout, Dense, Concatenate, Flatten, LeakyReLU\n",
        "from keras.initializers import Constant\n",
        "from keras.models import Model, load_model\n",
        "from keras.optimizers import Adam\n",
        "from keras.callbacks import ModelCheckpoint, EarlyStopping, ReduceLROnPlateau\n",
        "\n",
        "seed = 233666\n",
        "path = '/gdrive/My Drive/Colab Notebooks/'\n",
        "\n",
        "jieba.setLogLevel(20)"
      ],
      "execution_count": 0,
      "outputs": []
    },
    {
      "metadata": {
        "id": "eFShxOy0rSaz",
        "colab_type": "text"
      },
      "cell_type": "markdown",
      "source": [
        "## 1 Data"
      ]
    },
    {
      "metadata": {
        "id": "3Lv0RvPEXhCO",
        "colab_type": "code",
        "colab": {}
      },
      "cell_type": "code",
      "source": [
        "X = pickle.load(open(path + 'X_word.p', 'rb'))\n",
        "y = pickle.load(open(path + 'y.p', 'rb'))\n",
        "word_index, e_mat = pickle.load(open(path + 'embeddings_word.p', 'rb'))"
      ],
      "execution_count": 0,
      "outputs": []
    },
    {
      "metadata": {
        "id": "z1fmX7YzmyRv",
        "colab_type": "code",
        "colab": {}
      },
      "cell_type": "code",
      "source": [
        "def class_ratio(y):\n",
        "    s, l = np.sum(y), len(y)\n",
        "    print('class1 / len =', s, '/', l, '=', '%f' % (s / l))\n",
        "\n",
        "# class_ratio(y)\n",
        "\n",
        "def test_maxlen(test_list):\n",
        "    \"\"\"Number of texts maxlen will influence.\"\"\"\n",
        "    return [np.sum([[y_, 1] if len(x) > Tx else [0, 0] \n",
        "                   for x, y_ in zip(X, y)], axis=0).tolist()\n",
        "            for Tx in test_list]\n",
        "\n",
        "# test_maxlen([128, 256, 512, 1024, 2048, 4096])"
      ],
      "execution_count": 0,
      "outputs": []
    },
    {
      "metadata": {
        "id": "zJ7wcFaBBYeu",
        "colab_type": "text"
      },
      "cell_type": "markdown",
      "source": [
        "Zero-pad."
      ]
    },
    {
      "metadata": {
        "id": "gfjjrBLZ_ptE",
        "colab_type": "code",
        "colab": {}
      },
      "cell_type": "code",
      "source": [
        "Tx = 256\n",
        "X = pad_sequences(X, maxlen=Tx, truncating='post')"
      ],
      "execution_count": 0,
      "outputs": []
    },
    {
      "metadata": {
        "id": "hLhIaVUcuLUK",
        "colab_type": "text"
      },
      "cell_type": "markdown",
      "source": [
        "Split."
      ]
    },
    {
      "metadata": {
        "id": "Dwy8ch1guXZ6",
        "colab_type": "code",
        "colab": {}
      },
      "cell_type": "code",
      "source": [
        "X_train, X_test, y_train, y_test = train_test_split(\n",
        "    X, y, test_size=0.1, random_state=seed, stratify=y)\n",
        "X_train, X_val, y_train, y_val = train_test_split(\n",
        "    X_train, y_train, test_size=1/9, random_state=seed, stratify=y_train)"
      ],
      "execution_count": 0,
      "outputs": []
    },
    {
      "metadata": {
        "id": "UdRrsD4x2NRV",
        "colab_type": "text"
      },
      "cell_type": "markdown",
      "source": [
        "## 2 Model\n",
        "\n",
        "Inspired by [Kim (2014)](https://www.aclweb.org/anthology/D14-1181) and [Zhang et al. (2015)](https://arxiv.org/abs/1510.03820)."
      ]
    },
    {
      "metadata": {
        "id": "Li8tmusWBsOR",
        "colab_type": "text"
      },
      "cell_type": "markdown",
      "source": [
        "### 2.1 Build"
      ]
    },
    {
      "metadata": {
        "id": "clFu80Oy6fi-",
        "colab_type": "code",
        "colab": {}
      },
      "cell_type": "code",
      "source": [
        "def text_cnn(region_sizes):\n",
        "    \"\"\"Recieve a list of region sizes, which can contain 0.\"\"\"\n",
        "    i = Input(shape=(Tx,), name='Sentence')\n",
        "    X = Embedding(*e_mat.shape, embeddings_initializer=Constant(e_mat),\n",
        "                  trainable=True, name='WordVec')(i)\n",
        "    Xs = []\n",
        "    region_sizes = [s for s in region_sizes if s > 0]\n",
        "    for region_size in region_sizes:\n",
        "        Xi = Conv1D(1, region_size)(X)\n",
        "        Xi = LeakyReLU(0.1)(Xi)\n",
        "        Xi = MaxPooling1D(Xi.shape.as_list()[1])(Xi)\n",
        "        Xs.append(Xi)\n",
        "    X = Concatenate()(Xs) if len(region_sizes) > 1 else Xs[0]\n",
        "    X = Flatten()(X)\n",
        "    X = Dropout(0.5, seed=seed)(X)\n",
        "    X = Dense(1, activation='sigmoid')(X)\n",
        "    return Model(inputs=i, outputs=X)"
      ],
      "execution_count": 0,
      "outputs": []
    },
    {
      "metadata": {
        "id": "62UQyAuivA_G",
        "colab_type": "text"
      },
      "cell_type": "markdown",
      "source": [
        "text_cnn([7, 0]).summary()"
      ]
    },
    {
      "metadata": {
        "id": "4L8rnRSgXSv_",
        "colab_type": "code",
        "outputId": "702f28fa-c0e0-46a4-c589-71a61a338ee8",
        "colab": {
          "base_uri": "https://localhost:8080/",
          "height": 869
        }
      },
      "cell_type": "code",
      "source": [
        "from IPython.display import SVG\n",
        "from keras.utils.vis_utils import model_to_dot\n",
        "\n",
        "SVG(model_to_dot(text_cnn([7, 0]), show_shapes=True).create(prog='dot', format='svg'))"
      ],
      "execution_count": 0,
      "outputs": [
        {
          "output_type": "execute_result",
          "data": {
            "text/plain": [
              "<IPython.core.display.SVG object>"
            ],
            "image/svg+xml": "<svg height=\"636pt\" viewBox=\"0.00 0.00 389.00 636.00\" width=\"389pt\" xmlns=\"http://www.w3.org/2000/svg\" xmlns:xlink=\"http://www.w3.org/1999/xlink\">\n<g class=\"graph\" id=\"graph0\" transform=\"scale(1 1) rotate(0) translate(4 632)\">\n<title>G</title>\n<polygon fill=\"#ffffff\" points=\"-4,4 -4,-632 385,-632 385,4 -4,4\" stroke=\"transparent\"/>\n<!-- 140684388988856 -->\n<g class=\"node\" id=\"node1\">\n<title>140684388988856</title>\n<polygon fill=\"none\" points=\"48.5,-581.5 48.5,-627.5 332.5,-627.5 332.5,-581.5 48.5,-581.5\" stroke=\"#000000\"/>\n<text fill=\"#000000\" font-family=\"Times,serif\" font-size=\"14.00\" text-anchor=\"middle\" x=\"118\" y=\"-600.8\">Sentence: InputLayer</text>\n<polyline fill=\"none\" points=\"187.5,-581.5 187.5,-627.5 \" stroke=\"#000000\"/>\n<text fill=\"#000000\" font-family=\"Times,serif\" font-size=\"14.00\" text-anchor=\"middle\" x=\"216.5\" y=\"-612.3\">input:</text>\n<polyline fill=\"none\" points=\"187.5,-604.5 245.5,-604.5 \" stroke=\"#000000\"/>\n<text fill=\"#000000\" font-family=\"Times,serif\" font-size=\"14.00\" text-anchor=\"middle\" x=\"216.5\" y=\"-589.3\">output:</text>\n<polyline fill=\"none\" points=\"245.5,-581.5 245.5,-627.5 \" stroke=\"#000000\"/>\n<text fill=\"#000000\" font-family=\"Times,serif\" font-size=\"14.00\" text-anchor=\"middle\" x=\"289\" y=\"-612.3\">(None, 256)</text>\n<polyline fill=\"none\" points=\"245.5,-604.5 332.5,-604.5 \" stroke=\"#000000\"/>\n<text fill=\"#000000\" font-family=\"Times,serif\" font-size=\"14.00\" text-anchor=\"middle\" x=\"289\" y=\"-589.3\">(None, 256)</text>\n</g>\n<!-- 140684388989248 -->\n<g class=\"node\" id=\"node2\">\n<title>140684388989248</title>\n<polygon fill=\"none\" points=\"30.5,-498.5 30.5,-544.5 350.5,-544.5 350.5,-498.5 30.5,-498.5\" stroke=\"#000000\"/>\n<text fill=\"#000000\" font-family=\"Times,serif\" font-size=\"14.00\" text-anchor=\"middle\" x=\"103\" y=\"-517.8\">WordVec: Embedding</text>\n<polyline fill=\"none\" points=\"175.5,-498.5 175.5,-544.5 \" stroke=\"#000000\"/>\n<text fill=\"#000000\" font-family=\"Times,serif\" font-size=\"14.00\" text-anchor=\"middle\" x=\"204.5\" y=\"-529.3\">input:</text>\n<polyline fill=\"none\" points=\"175.5,-521.5 233.5,-521.5 \" stroke=\"#000000\"/>\n<text fill=\"#000000\" font-family=\"Times,serif\" font-size=\"14.00\" text-anchor=\"middle\" x=\"204.5\" y=\"-506.3\">output:</text>\n<polyline fill=\"none\" points=\"233.5,-498.5 233.5,-544.5 \" stroke=\"#000000\"/>\n<text fill=\"#000000\" font-family=\"Times,serif\" font-size=\"14.00\" text-anchor=\"middle\" x=\"292\" y=\"-529.3\">(None, 256)</text>\n<polyline fill=\"none\" points=\"233.5,-521.5 350.5,-521.5 \" stroke=\"#000000\"/>\n<text fill=\"#000000\" font-family=\"Times,serif\" font-size=\"14.00\" text-anchor=\"middle\" x=\"292\" y=\"-506.3\">(None, 256, 200)</text>\n</g>\n<!-- 140684388988856&#45;&gt;140684388989248 -->\n<g class=\"edge\" id=\"edge1\">\n<title>140684388988856-&gt;140684388989248</title>\n<path d=\"M190.5,-581.3799C190.5,-573.1745 190.5,-563.7679 190.5,-554.8786\" fill=\"none\" stroke=\"#000000\"/>\n<polygon fill=\"#000000\" points=\"194.0001,-554.784 190.5,-544.784 187.0001,-554.784 194.0001,-554.784\" stroke=\"#000000\"/>\n</g>\n<!-- 140684388989584 -->\n<g class=\"node\" id=\"node3\">\n<title>140684388989584</title>\n<polygon fill=\"none\" points=\"36.5,-415.5 36.5,-461.5 344.5,-461.5 344.5,-415.5 36.5,-415.5\" stroke=\"#000000\"/>\n<text fill=\"#000000\" font-family=\"Times,serif\" font-size=\"14.00\" text-anchor=\"middle\" x=\"103\" y=\"-434.8\">conv1d_1: Conv1D</text>\n<polyline fill=\"none\" points=\"169.5,-415.5 169.5,-461.5 \" stroke=\"#000000\"/>\n<text fill=\"#000000\" font-family=\"Times,serif\" font-size=\"14.00\" text-anchor=\"middle\" x=\"198.5\" y=\"-446.3\">input:</text>\n<polyline fill=\"none\" points=\"169.5,-438.5 227.5,-438.5 \" stroke=\"#000000\"/>\n<text fill=\"#000000\" font-family=\"Times,serif\" font-size=\"14.00\" text-anchor=\"middle\" x=\"198.5\" y=\"-423.3\">output:</text>\n<polyline fill=\"none\" points=\"227.5,-415.5 227.5,-461.5 \" stroke=\"#000000\"/>\n<text fill=\"#000000\" font-family=\"Times,serif\" font-size=\"14.00\" text-anchor=\"middle\" x=\"286\" y=\"-446.3\">(None, 256, 200)</text>\n<polyline fill=\"none\" points=\"227.5,-438.5 344.5,-438.5 \" stroke=\"#000000\"/>\n<text fill=\"#000000\" font-family=\"Times,serif\" font-size=\"14.00\" text-anchor=\"middle\" x=\"286\" y=\"-423.3\">(None, 250, 1)</text>\n</g>\n<!-- 140684388989248&#45;&gt;140684388989584 -->\n<g class=\"edge\" id=\"edge2\">\n<title>140684388989248-&gt;140684388989584</title>\n<path d=\"M190.5,-498.3799C190.5,-490.1745 190.5,-480.7679 190.5,-471.8786\" fill=\"none\" stroke=\"#000000\"/>\n<polygon fill=\"#000000\" points=\"194.0001,-471.784 190.5,-461.784 187.0001,-471.784 194.0001,-471.784\" stroke=\"#000000\"/>\n</g>\n<!-- 140684388990256 -->\n<g class=\"node\" id=\"node4\">\n<title>140684388990256</title>\n<polygon fill=\"none\" points=\"21.5,-332.5 21.5,-378.5 359.5,-378.5 359.5,-332.5 21.5,-332.5\" stroke=\"#000000\"/>\n<text fill=\"#000000\" font-family=\"Times,serif\" font-size=\"14.00\" text-anchor=\"middle\" x=\"110.5\" y=\"-351.8\">leaky_re_lu_1: LeakyReLU</text>\n<polyline fill=\"none\" points=\"199.5,-332.5 199.5,-378.5 \" stroke=\"#000000\"/>\n<text fill=\"#000000\" font-family=\"Times,serif\" font-size=\"14.00\" text-anchor=\"middle\" x=\"228.5\" y=\"-363.3\">input:</text>\n<polyline fill=\"none\" points=\"199.5,-355.5 257.5,-355.5 \" stroke=\"#000000\"/>\n<text fill=\"#000000\" font-family=\"Times,serif\" font-size=\"14.00\" text-anchor=\"middle\" x=\"228.5\" y=\"-340.3\">output:</text>\n<polyline fill=\"none\" points=\"257.5,-332.5 257.5,-378.5 \" stroke=\"#000000\"/>\n<text fill=\"#000000\" font-family=\"Times,serif\" font-size=\"14.00\" text-anchor=\"middle\" x=\"308.5\" y=\"-363.3\">(None, 250, 1)</text>\n<polyline fill=\"none\" points=\"257.5,-355.5 359.5,-355.5 \" stroke=\"#000000\"/>\n<text fill=\"#000000\" font-family=\"Times,serif\" font-size=\"14.00\" text-anchor=\"middle\" x=\"308.5\" y=\"-340.3\">(None, 250, 1)</text>\n</g>\n<!-- 140684388989584&#45;&gt;140684388990256 -->\n<g class=\"edge\" id=\"edge3\">\n<title>140684388989584-&gt;140684388990256</title>\n<path d=\"M190.5,-415.3799C190.5,-407.1745 190.5,-397.7679 190.5,-388.8786\" fill=\"none\" stroke=\"#000000\"/>\n<polygon fill=\"#000000\" points=\"194.0001,-388.784 190.5,-378.784 187.0001,-388.784 194.0001,-388.784\" stroke=\"#000000\"/>\n</g>\n<!-- 140684388989024 -->\n<g class=\"node\" id=\"node5\">\n<title>140684388989024</title>\n<polygon fill=\"none\" points=\"0,-249.5 0,-295.5 381,-295.5 381,-249.5 0,-249.5\" stroke=\"#000000\"/>\n<text fill=\"#000000\" font-family=\"Times,serif\" font-size=\"14.00\" text-anchor=\"middle\" x=\"110.5\" y=\"-268.8\">max_pooling1d_1: MaxPooling1D</text>\n<polyline fill=\"none\" points=\"221,-249.5 221,-295.5 \" stroke=\"#000000\"/>\n<text fill=\"#000000\" font-family=\"Times,serif\" font-size=\"14.00\" text-anchor=\"middle\" x=\"250\" y=\"-280.3\">input:</text>\n<polyline fill=\"none\" points=\"221,-272.5 279,-272.5 \" stroke=\"#000000\"/>\n<text fill=\"#000000\" font-family=\"Times,serif\" font-size=\"14.00\" text-anchor=\"middle\" x=\"250\" y=\"-257.3\">output:</text>\n<polyline fill=\"none\" points=\"279,-249.5 279,-295.5 \" stroke=\"#000000\"/>\n<text fill=\"#000000\" font-family=\"Times,serif\" font-size=\"14.00\" text-anchor=\"middle\" x=\"330\" y=\"-280.3\">(None, 250, 1)</text>\n<polyline fill=\"none\" points=\"279,-272.5 381,-272.5 \" stroke=\"#000000\"/>\n<text fill=\"#000000\" font-family=\"Times,serif\" font-size=\"14.00\" text-anchor=\"middle\" x=\"330\" y=\"-257.3\">(None, 1, 1)</text>\n</g>\n<!-- 140684388990256&#45;&gt;140684388989024 -->\n<g class=\"edge\" id=\"edge4\">\n<title>140684388990256-&gt;140684388989024</title>\n<path d=\"M190.5,-332.3799C190.5,-324.1745 190.5,-314.7679 190.5,-305.8786\" fill=\"none\" stroke=\"#000000\"/>\n<polygon fill=\"#000000\" points=\"194.0001,-305.784 190.5,-295.784 187.0001,-305.784 194.0001,-305.784\" stroke=\"#000000\"/>\n</g>\n<!-- 140684388990424 -->\n<g class=\"node\" id=\"node6\">\n<title>140684388990424</title>\n<polygon fill=\"none\" points=\"61.5,-166.5 61.5,-212.5 319.5,-212.5 319.5,-166.5 61.5,-166.5\" stroke=\"#000000\"/>\n<text fill=\"#000000\" font-family=\"Times,serif\" font-size=\"14.00\" text-anchor=\"middle\" x=\"118\" y=\"-185.8\">flatten_1: Flatten</text>\n<polyline fill=\"none\" points=\"174.5,-166.5 174.5,-212.5 \" stroke=\"#000000\"/>\n<text fill=\"#000000\" font-family=\"Times,serif\" font-size=\"14.00\" text-anchor=\"middle\" x=\"203.5\" y=\"-197.3\">input:</text>\n<polyline fill=\"none\" points=\"174.5,-189.5 232.5,-189.5 \" stroke=\"#000000\"/>\n<text fill=\"#000000\" font-family=\"Times,serif\" font-size=\"14.00\" text-anchor=\"middle\" x=\"203.5\" y=\"-174.3\">output:</text>\n<polyline fill=\"none\" points=\"232.5,-166.5 232.5,-212.5 \" stroke=\"#000000\"/>\n<text fill=\"#000000\" font-family=\"Times,serif\" font-size=\"14.00\" text-anchor=\"middle\" x=\"276\" y=\"-197.3\">(None, 1, 1)</text>\n<polyline fill=\"none\" points=\"232.5,-189.5 319.5,-189.5 \" stroke=\"#000000\"/>\n<text fill=\"#000000\" font-family=\"Times,serif\" font-size=\"14.00\" text-anchor=\"middle\" x=\"276\" y=\"-174.3\">(None, 1)</text>\n</g>\n<!-- 140684388989024&#45;&gt;140684388990424 -->\n<g class=\"edge\" id=\"edge5\">\n<title>140684388989024-&gt;140684388990424</title>\n<path d=\"M190.5,-249.3799C190.5,-241.1745 190.5,-231.7679 190.5,-222.8786\" fill=\"none\" stroke=\"#000000\"/>\n<polygon fill=\"#000000\" points=\"194.0001,-222.784 190.5,-212.784 187.0001,-222.784 194.0001,-222.784\" stroke=\"#000000\"/>\n</g>\n<!-- 140681822176872 -->\n<g class=\"node\" id=\"node7\">\n<title>140681822176872</title>\n<polygon fill=\"none\" points=\"58.5,-83.5 58.5,-129.5 322.5,-129.5 322.5,-83.5 58.5,-83.5\" stroke=\"#000000\"/>\n<text fill=\"#000000\" font-family=\"Times,serif\" font-size=\"14.00\" text-anchor=\"middle\" x=\"125.5\" y=\"-102.8\">dropout_1: Dropout</text>\n<polyline fill=\"none\" points=\"192.5,-83.5 192.5,-129.5 \" stroke=\"#000000\"/>\n<text fill=\"#000000\" font-family=\"Times,serif\" font-size=\"14.00\" text-anchor=\"middle\" x=\"221.5\" y=\"-114.3\">input:</text>\n<polyline fill=\"none\" points=\"192.5,-106.5 250.5,-106.5 \" stroke=\"#000000\"/>\n<text fill=\"#000000\" font-family=\"Times,serif\" font-size=\"14.00\" text-anchor=\"middle\" x=\"221.5\" y=\"-91.3\">output:</text>\n<polyline fill=\"none\" points=\"250.5,-83.5 250.5,-129.5 \" stroke=\"#000000\"/>\n<text fill=\"#000000\" font-family=\"Times,serif\" font-size=\"14.00\" text-anchor=\"middle\" x=\"286.5\" y=\"-114.3\">(None, 1)</text>\n<polyline fill=\"none\" points=\"250.5,-106.5 322.5,-106.5 \" stroke=\"#000000\"/>\n<text fill=\"#000000\" font-family=\"Times,serif\" font-size=\"14.00\" text-anchor=\"middle\" x=\"286.5\" y=\"-91.3\">(None, 1)</text>\n</g>\n<!-- 140684388990424&#45;&gt;140681822176872 -->\n<g class=\"edge\" id=\"edge6\">\n<title>140684388990424-&gt;140681822176872</title>\n<path d=\"M190.5,-166.3799C190.5,-158.1745 190.5,-148.7679 190.5,-139.8786\" fill=\"none\" stroke=\"#000000\"/>\n<polygon fill=\"#000000\" points=\"194.0001,-139.784 190.5,-129.784 187.0001,-139.784 194.0001,-139.784\" stroke=\"#000000\"/>\n</g>\n<!-- 140681822177096 -->\n<g class=\"node\" id=\"node8\">\n<title>140681822177096</title>\n<polygon fill=\"none\" points=\"72,-.5 72,-46.5 309,-46.5 309,-.5 72,-.5\" stroke=\"#000000\"/>\n<text fill=\"#000000\" font-family=\"Times,serif\" font-size=\"14.00\" text-anchor=\"middle\" x=\"125.5\" y=\"-19.8\">dense_1: Dense</text>\n<polyline fill=\"none\" points=\"179,-.5 179,-46.5 \" stroke=\"#000000\"/>\n<text fill=\"#000000\" font-family=\"Times,serif\" font-size=\"14.00\" text-anchor=\"middle\" x=\"208\" y=\"-31.3\">input:</text>\n<polyline fill=\"none\" points=\"179,-23.5 237,-23.5 \" stroke=\"#000000\"/>\n<text fill=\"#000000\" font-family=\"Times,serif\" font-size=\"14.00\" text-anchor=\"middle\" x=\"208\" y=\"-8.3\">output:</text>\n<polyline fill=\"none\" points=\"237,-.5 237,-46.5 \" stroke=\"#000000\"/>\n<text fill=\"#000000\" font-family=\"Times,serif\" font-size=\"14.00\" text-anchor=\"middle\" x=\"273\" y=\"-31.3\">(None, 1)</text>\n<polyline fill=\"none\" points=\"237,-23.5 309,-23.5 \" stroke=\"#000000\"/>\n<text fill=\"#000000\" font-family=\"Times,serif\" font-size=\"14.00\" text-anchor=\"middle\" x=\"273\" y=\"-8.3\">(None, 1)</text>\n</g>\n<!-- 140681822176872&#45;&gt;140681822177096 -->\n<g class=\"edge\" id=\"edge7\">\n<title>140681822176872-&gt;140681822177096</title>\n<path d=\"M190.5,-83.3799C190.5,-75.1745 190.5,-65.7679 190.5,-56.8786\" fill=\"none\" stroke=\"#000000\"/>\n<polygon fill=\"#000000\" points=\"194.0001,-56.784 190.5,-46.784 187.0001,-56.784 194.0001,-56.784\" stroke=\"#000000\"/>\n</g>\n</g>\n</svg>"
          },
          "metadata": {
            "tags": []
          },
          "execution_count": 26
        }
      ]
    },
    {
      "metadata": {
        "id": "4pUGUSk62oWE",
        "colab_type": "code",
        "outputId": "1da23f26-6350-431d-a799-e2a16856ec73",
        "colab": {
          "base_uri": "https://localhost:8080/",
          "height": 979
        }
      },
      "cell_type": "code",
      "source": [
        "SVG(model_to_dot(text_cnn([3, 4, 0, 0]), show_shapes=True).create(prog='dot', format='svg'))"
      ],
      "execution_count": 0,
      "outputs": [
        {
          "output_type": "execute_result",
          "data": {
            "text/plain": [
              "<IPython.core.display.SVG object>"
            ],
            "image/svg+xml": "<svg height=\"719pt\" viewBox=\"0.00 0.00 788.00 719.00\" width=\"788pt\" xmlns=\"http://www.w3.org/2000/svg\" xmlns:xlink=\"http://www.w3.org/1999/xlink\">\n<g class=\"graph\" id=\"graph0\" transform=\"scale(1 1) rotate(0) translate(4 715)\">\n<title>G</title>\n<polygon fill=\"#ffffff\" points=\"-4,4 -4,-715 784,-715 784,4 -4,4\" stroke=\"transparent\"/>\n<!-- 140684388989136 -->\n<g class=\"node\" id=\"node1\">\n<title>140684388989136</title>\n<polygon fill=\"none\" points=\"247.5,-664.5 247.5,-710.5 531.5,-710.5 531.5,-664.5 247.5,-664.5\" stroke=\"#000000\"/>\n<text fill=\"#000000\" font-family=\"Times,serif\" font-size=\"14.00\" text-anchor=\"middle\" x=\"317\" y=\"-683.8\">Sentence: InputLayer</text>\n<polyline fill=\"none\" points=\"386.5,-664.5 386.5,-710.5 \" stroke=\"#000000\"/>\n<text fill=\"#000000\" font-family=\"Times,serif\" font-size=\"14.00\" text-anchor=\"middle\" x=\"415.5\" y=\"-695.3\">input:</text>\n<polyline fill=\"none\" points=\"386.5,-687.5 444.5,-687.5 \" stroke=\"#000000\"/>\n<text fill=\"#000000\" font-family=\"Times,serif\" font-size=\"14.00\" text-anchor=\"middle\" x=\"415.5\" y=\"-672.3\">output:</text>\n<polyline fill=\"none\" points=\"444.5,-664.5 444.5,-710.5 \" stroke=\"#000000\"/>\n<text fill=\"#000000\" font-family=\"Times,serif\" font-size=\"14.00\" text-anchor=\"middle\" x=\"488\" y=\"-695.3\">(None, 256)</text>\n<polyline fill=\"none\" points=\"444.5,-687.5 531.5,-687.5 \" stroke=\"#000000\"/>\n<text fill=\"#000000\" font-family=\"Times,serif\" font-size=\"14.00\" text-anchor=\"middle\" x=\"488\" y=\"-672.3\">(None, 256)</text>\n</g>\n<!-- 140681819189088 -->\n<g class=\"node\" id=\"node2\">\n<title>140681819189088</title>\n<polygon fill=\"none\" points=\"229.5,-581.5 229.5,-627.5 549.5,-627.5 549.5,-581.5 229.5,-581.5\" stroke=\"#000000\"/>\n<text fill=\"#000000\" font-family=\"Times,serif\" font-size=\"14.00\" text-anchor=\"middle\" x=\"302\" y=\"-600.8\">WordVec: Embedding</text>\n<polyline fill=\"none\" points=\"374.5,-581.5 374.5,-627.5 \" stroke=\"#000000\"/>\n<text fill=\"#000000\" font-family=\"Times,serif\" font-size=\"14.00\" text-anchor=\"middle\" x=\"403.5\" y=\"-612.3\">input:</text>\n<polyline fill=\"none\" points=\"374.5,-604.5 432.5,-604.5 \" stroke=\"#000000\"/>\n<text fill=\"#000000\" font-family=\"Times,serif\" font-size=\"14.00\" text-anchor=\"middle\" x=\"403.5\" y=\"-589.3\">output:</text>\n<polyline fill=\"none\" points=\"432.5,-581.5 432.5,-627.5 \" stroke=\"#000000\"/>\n<text fill=\"#000000\" font-family=\"Times,serif\" font-size=\"14.00\" text-anchor=\"middle\" x=\"491\" y=\"-612.3\">(None, 256)</text>\n<polyline fill=\"none\" points=\"432.5,-604.5 549.5,-604.5 \" stroke=\"#000000\"/>\n<text fill=\"#000000\" font-family=\"Times,serif\" font-size=\"14.00\" text-anchor=\"middle\" x=\"491\" y=\"-589.3\">(None, 256, 200)</text>\n</g>\n<!-- 140684388989136&#45;&gt;140681819189088 -->\n<g class=\"edge\" id=\"edge1\">\n<title>140684388989136-&gt;140681819189088</title>\n<path d=\"M389.5,-664.3799C389.5,-656.1745 389.5,-646.7679 389.5,-637.8786\" fill=\"none\" stroke=\"#000000\"/>\n<polygon fill=\"#000000\" points=\"393.0001,-637.784 389.5,-627.784 386.0001,-637.784 393.0001,-637.784\" stroke=\"#000000\"/>\n</g>\n<!-- 140681819259120 -->\n<g class=\"node\" id=\"node3\">\n<title>140681819259120</title>\n<polygon fill=\"none\" points=\"72.5,-498.5 72.5,-544.5 380.5,-544.5 380.5,-498.5 72.5,-498.5\" stroke=\"#000000\"/>\n<text fill=\"#000000\" font-family=\"Times,serif\" font-size=\"14.00\" text-anchor=\"middle\" x=\"139\" y=\"-517.8\">conv1d_2: Conv1D</text>\n<polyline fill=\"none\" points=\"205.5,-498.5 205.5,-544.5 \" stroke=\"#000000\"/>\n<text fill=\"#000000\" font-family=\"Times,serif\" font-size=\"14.00\" text-anchor=\"middle\" x=\"234.5\" y=\"-529.3\">input:</text>\n<polyline fill=\"none\" points=\"205.5,-521.5 263.5,-521.5 \" stroke=\"#000000\"/>\n<text fill=\"#000000\" font-family=\"Times,serif\" font-size=\"14.00\" text-anchor=\"middle\" x=\"234.5\" y=\"-506.3\">output:</text>\n<polyline fill=\"none\" points=\"263.5,-498.5 263.5,-544.5 \" stroke=\"#000000\"/>\n<text fill=\"#000000\" font-family=\"Times,serif\" font-size=\"14.00\" text-anchor=\"middle\" x=\"322\" y=\"-529.3\">(None, 256, 200)</text>\n<polyline fill=\"none\" points=\"263.5,-521.5 380.5,-521.5 \" stroke=\"#000000\"/>\n<text fill=\"#000000\" font-family=\"Times,serif\" font-size=\"14.00\" text-anchor=\"middle\" x=\"322\" y=\"-506.3\">(None, 254, 1)</text>\n</g>\n<!-- 140681819189088&#45;&gt;140681819259120 -->\n<g class=\"edge\" id=\"edge2\">\n<title>140681819189088-&gt;140681819259120</title>\n<path d=\"M344.0954,-581.3799C324.4838,-571.3936 301.3777,-559.6279 280.8617,-549.1811\" fill=\"none\" stroke=\"#000000\"/>\n<polygon fill=\"#000000\" points=\"282.4429,-546.0587 271.9435,-544.6399 279.2666,-552.2966 282.4429,-546.0587\" stroke=\"#000000\"/>\n</g>\n<!-- 140681818898160 -->\n<g class=\"node\" id=\"node4\">\n<title>140681818898160</title>\n<polygon fill=\"none\" points=\"405.5,-498.5 405.5,-544.5 713.5,-544.5 713.5,-498.5 405.5,-498.5\" stroke=\"#000000\"/>\n<text fill=\"#000000\" font-family=\"Times,serif\" font-size=\"14.00\" text-anchor=\"middle\" x=\"472\" y=\"-517.8\">conv1d_3: Conv1D</text>\n<polyline fill=\"none\" points=\"538.5,-498.5 538.5,-544.5 \" stroke=\"#000000\"/>\n<text fill=\"#000000\" font-family=\"Times,serif\" font-size=\"14.00\" text-anchor=\"middle\" x=\"567.5\" y=\"-529.3\">input:</text>\n<polyline fill=\"none\" points=\"538.5,-521.5 596.5,-521.5 \" stroke=\"#000000\"/>\n<text fill=\"#000000\" font-family=\"Times,serif\" font-size=\"14.00\" text-anchor=\"middle\" x=\"567.5\" y=\"-506.3\">output:</text>\n<polyline fill=\"none\" points=\"596.5,-498.5 596.5,-544.5 \" stroke=\"#000000\"/>\n<text fill=\"#000000\" font-family=\"Times,serif\" font-size=\"14.00\" text-anchor=\"middle\" x=\"655\" y=\"-529.3\">(None, 256, 200)</text>\n<polyline fill=\"none\" points=\"596.5,-521.5 713.5,-521.5 \" stroke=\"#000000\"/>\n<text fill=\"#000000\" font-family=\"Times,serif\" font-size=\"14.00\" text-anchor=\"middle\" x=\"655\" y=\"-506.3\">(None, 253, 1)</text>\n</g>\n<!-- 140681819189088&#45;&gt;140681818898160 -->\n<g class=\"edge\" id=\"edge3\">\n<title>140681819189088-&gt;140681818898160</title>\n<path d=\"M436.8545,-581.3799C457.4,-571.3488 481.6229,-559.5224 503.0915,-549.0406\" fill=\"none\" stroke=\"#000000\"/>\n<polygon fill=\"#000000\" points=\"504.6544,-552.1725 512.1049,-544.6399 501.5832,-545.8822 504.6544,-552.1725\" stroke=\"#000000\"/>\n</g>\n<!-- 140681819565976 -->\n<g class=\"node\" id=\"node5\">\n<title>140681819565976</title>\n<polygon fill=\"none\" points=\"42.5,-415.5 42.5,-461.5 380.5,-461.5 380.5,-415.5 42.5,-415.5\" stroke=\"#000000\"/>\n<text fill=\"#000000\" font-family=\"Times,serif\" font-size=\"14.00\" text-anchor=\"middle\" x=\"131.5\" y=\"-434.8\">leaky_re_lu_2: LeakyReLU</text>\n<polyline fill=\"none\" points=\"220.5,-415.5 220.5,-461.5 \" stroke=\"#000000\"/>\n<text fill=\"#000000\" font-family=\"Times,serif\" font-size=\"14.00\" text-anchor=\"middle\" x=\"249.5\" y=\"-446.3\">input:</text>\n<polyline fill=\"none\" points=\"220.5,-438.5 278.5,-438.5 \" stroke=\"#000000\"/>\n<text fill=\"#000000\" font-family=\"Times,serif\" font-size=\"14.00\" text-anchor=\"middle\" x=\"249.5\" y=\"-423.3\">output:</text>\n<polyline fill=\"none\" points=\"278.5,-415.5 278.5,-461.5 \" stroke=\"#000000\"/>\n<text fill=\"#000000\" font-family=\"Times,serif\" font-size=\"14.00\" text-anchor=\"middle\" x=\"329.5\" y=\"-446.3\">(None, 254, 1)</text>\n<polyline fill=\"none\" points=\"278.5,-438.5 380.5,-438.5 \" stroke=\"#000000\"/>\n<text fill=\"#000000\" font-family=\"Times,serif\" font-size=\"14.00\" text-anchor=\"middle\" x=\"329.5\" y=\"-423.3\">(None, 254, 1)</text>\n</g>\n<!-- 140681819259120&#45;&gt;140681819565976 -->\n<g class=\"edge\" id=\"edge4\">\n<title>140681819259120-&gt;140681819565976</title>\n<path d=\"M222.3217,-498.3799C220.8388,-490.1745 219.1388,-480.7679 217.5323,-471.8786\" fill=\"none\" stroke=\"#000000\"/>\n<polygon fill=\"#000000\" points=\"220.9307,-471.0021 215.708,-461.784 214.0422,-472.2471 220.9307,-471.0021\" stroke=\"#000000\"/>\n</g>\n<!-- 140681818721080 -->\n<g class=\"node\" id=\"node6\">\n<title>140681818721080</title>\n<polygon fill=\"none\" points=\"409.5,-415.5 409.5,-461.5 747.5,-461.5 747.5,-415.5 409.5,-415.5\" stroke=\"#000000\"/>\n<text fill=\"#000000\" font-family=\"Times,serif\" font-size=\"14.00\" text-anchor=\"middle\" x=\"498.5\" y=\"-434.8\">leaky_re_lu_3: LeakyReLU</text>\n<polyline fill=\"none\" points=\"587.5,-415.5 587.5,-461.5 \" stroke=\"#000000\"/>\n<text fill=\"#000000\" font-family=\"Times,serif\" font-size=\"14.00\" text-anchor=\"middle\" x=\"616.5\" y=\"-446.3\">input:</text>\n<polyline fill=\"none\" points=\"587.5,-438.5 645.5,-438.5 \" stroke=\"#000000\"/>\n<text fill=\"#000000\" font-family=\"Times,serif\" font-size=\"14.00\" text-anchor=\"middle\" x=\"616.5\" y=\"-423.3\">output:</text>\n<polyline fill=\"none\" points=\"645.5,-415.5 645.5,-461.5 \" stroke=\"#000000\"/>\n<text fill=\"#000000\" font-family=\"Times,serif\" font-size=\"14.00\" text-anchor=\"middle\" x=\"696.5\" y=\"-446.3\">(None, 253, 1)</text>\n<polyline fill=\"none\" points=\"645.5,-438.5 747.5,-438.5 \" stroke=\"#000000\"/>\n<text fill=\"#000000\" font-family=\"Times,serif\" font-size=\"14.00\" text-anchor=\"middle\" x=\"696.5\" y=\"-423.3\">(None, 253, 1)</text>\n</g>\n<!-- 140681818898160&#45;&gt;140681818721080 -->\n<g class=\"edge\" id=\"edge5\">\n<title>140681818898160-&gt;140681818721080</title>\n<path d=\"M564.7926,-498.3799C566.6913,-490.0854 568.8711,-480.5633 570.9254,-471.5889\" fill=\"none\" stroke=\"#000000\"/>\n<polygon fill=\"#000000\" points=\"574.3502,-472.3129 573.1699,-461.784 567.5267,-470.7508 574.3502,-472.3129\" stroke=\"#000000\"/>\n</g>\n<!-- 140681825922576 -->\n<g class=\"node\" id=\"node7\">\n<title>140681825922576</title>\n<polygon fill=\"none\" points=\"0,-332.5 0,-378.5 381,-378.5 381,-332.5 0,-332.5\" stroke=\"#000000\"/>\n<text fill=\"#000000\" font-family=\"Times,serif\" font-size=\"14.00\" text-anchor=\"middle\" x=\"110.5\" y=\"-351.8\">max_pooling1d_2: MaxPooling1D</text>\n<polyline fill=\"none\" points=\"221,-332.5 221,-378.5 \" stroke=\"#000000\"/>\n<text fill=\"#000000\" font-family=\"Times,serif\" font-size=\"14.00\" text-anchor=\"middle\" x=\"250\" y=\"-363.3\">input:</text>\n<polyline fill=\"none\" points=\"221,-355.5 279,-355.5 \" stroke=\"#000000\"/>\n<text fill=\"#000000\" font-family=\"Times,serif\" font-size=\"14.00\" text-anchor=\"middle\" x=\"250\" y=\"-340.3\">output:</text>\n<polyline fill=\"none\" points=\"279,-332.5 279,-378.5 \" stroke=\"#000000\"/>\n<text fill=\"#000000\" font-family=\"Times,serif\" font-size=\"14.00\" text-anchor=\"middle\" x=\"330\" y=\"-363.3\">(None, 254, 1)</text>\n<polyline fill=\"none\" points=\"279,-355.5 381,-355.5 \" stroke=\"#000000\"/>\n<text fill=\"#000000\" font-family=\"Times,serif\" font-size=\"14.00\" text-anchor=\"middle\" x=\"330\" y=\"-340.3\">(None, 1, 1)</text>\n</g>\n<!-- 140681819565976&#45;&gt;140681825922576 -->\n<g class=\"edge\" id=\"edge6\">\n<title>140681819565976-&gt;140681825922576</title>\n<path d=\"M205.6503,-415.3799C203.5517,-407.0854 201.1425,-397.5633 198.8719,-388.5889\" fill=\"none\" stroke=\"#000000\"/>\n<polygon fill=\"#000000\" points=\"202.2371,-387.62 196.3911,-378.784 195.451,-389.337 202.2371,-387.62\" stroke=\"#000000\"/>\n</g>\n<!-- 140681818722256 -->\n<g class=\"node\" id=\"node8\">\n<title>140681818722256</title>\n<polygon fill=\"none\" points=\"399,-332.5 399,-378.5 780,-378.5 780,-332.5 399,-332.5\" stroke=\"#000000\"/>\n<text fill=\"#000000\" font-family=\"Times,serif\" font-size=\"14.00\" text-anchor=\"middle\" x=\"509.5\" y=\"-351.8\">max_pooling1d_3: MaxPooling1D</text>\n<polyline fill=\"none\" points=\"620,-332.5 620,-378.5 \" stroke=\"#000000\"/>\n<text fill=\"#000000\" font-family=\"Times,serif\" font-size=\"14.00\" text-anchor=\"middle\" x=\"649\" y=\"-363.3\">input:</text>\n<polyline fill=\"none\" points=\"620,-355.5 678,-355.5 \" stroke=\"#000000\"/>\n<text fill=\"#000000\" font-family=\"Times,serif\" font-size=\"14.00\" text-anchor=\"middle\" x=\"649\" y=\"-340.3\">output:</text>\n<polyline fill=\"none\" points=\"678,-332.5 678,-378.5 \" stroke=\"#000000\"/>\n<text fill=\"#000000\" font-family=\"Times,serif\" font-size=\"14.00\" text-anchor=\"middle\" x=\"729\" y=\"-363.3\">(None, 253, 1)</text>\n<polyline fill=\"none\" points=\"678,-355.5 780,-355.5 \" stroke=\"#000000\"/>\n<text fill=\"#000000\" font-family=\"Times,serif\" font-size=\"14.00\" text-anchor=\"middle\" x=\"729\" y=\"-340.3\">(None, 1, 1)</text>\n</g>\n<!-- 140681818721080&#45;&gt;140681818722256 -->\n<g class=\"edge\" id=\"edge7\">\n<title>140681818721080-&gt;140681818722256</title>\n<path d=\"M581.5641,-415.3799C582.6516,-407.1745 583.8982,-397.7679 585.0763,-388.8786\" fill=\"none\" stroke=\"#000000\"/>\n<polygon fill=\"#000000\" points=\"588.5699,-389.1572 586.4142,-378.784 581.6306,-388.2375 588.5699,-389.1572\" stroke=\"#000000\"/>\n</g>\n<!-- 140681819262704 -->\n<g class=\"node\" id=\"node9\">\n<title>140681819262704</title>\n<polygon fill=\"none\" points=\"186,-249.5 186,-295.5 593,-295.5 593,-249.5 186,-249.5\" stroke=\"#000000\"/>\n<text fill=\"#000000\" font-family=\"Times,serif\" font-size=\"14.00\" text-anchor=\"middle\" x=\"273.5\" y=\"-268.8\">concatenate_1: Concatenate</text>\n<polyline fill=\"none\" points=\"361,-249.5 361,-295.5 \" stroke=\"#000000\"/>\n<text fill=\"#000000\" font-family=\"Times,serif\" font-size=\"14.00\" text-anchor=\"middle\" x=\"390\" y=\"-280.3\">input:</text>\n<polyline fill=\"none\" points=\"361,-272.5 419,-272.5 \" stroke=\"#000000\"/>\n<text fill=\"#000000\" font-family=\"Times,serif\" font-size=\"14.00\" text-anchor=\"middle\" x=\"390\" y=\"-257.3\">output:</text>\n<polyline fill=\"none\" points=\"419,-249.5 419,-295.5 \" stroke=\"#000000\"/>\n<text fill=\"#000000\" font-family=\"Times,serif\" font-size=\"14.00\" text-anchor=\"middle\" x=\"506\" y=\"-280.3\">[(None, 1, 1), (None, 1, 1)]</text>\n<polyline fill=\"none\" points=\"419,-272.5 593,-272.5 \" stroke=\"#000000\"/>\n<text fill=\"#000000\" font-family=\"Times,serif\" font-size=\"14.00\" text-anchor=\"middle\" x=\"506\" y=\"-257.3\">(None, 1, 2)</text>\n</g>\n<!-- 140681825922576&#45;&gt;140681819262704 -->\n<g class=\"edge\" id=\"edge8\">\n<title>140681825922576-&gt;140681819262704</title>\n<path d=\"M245.6683,-332.4901C270.255,-322.2353 299.3812,-310.0872 324.9713,-299.414\" fill=\"none\" stroke=\"#000000\"/>\n<polygon fill=\"#000000\" points=\"326.3423,-302.6345 334.2244,-295.5547 323.6476,-296.1739 326.3423,-302.6345\" stroke=\"#000000\"/>\n</g>\n<!-- 140681818722256&#45;&gt;140681819262704 -->\n<g class=\"edge\" id=\"edge9\">\n<title>140681818722256-&gt;140681819262704</title>\n<path d=\"M534.0544,-332.4901C509.3442,-322.2353 480.0717,-310.0872 454.3529,-299.414\" fill=\"none\" stroke=\"#000000\"/>\n<polygon fill=\"#000000\" points=\"455.6312,-296.1551 445.0534,-295.5547 452.9481,-302.6204 455.6312,-296.1551\" stroke=\"#000000\"/>\n</g>\n<!-- 140681818335440 -->\n<g class=\"node\" id=\"node10\">\n<title>140681818335440</title>\n<polygon fill=\"none\" points=\"260.5,-166.5 260.5,-212.5 518.5,-212.5 518.5,-166.5 260.5,-166.5\" stroke=\"#000000\"/>\n<text fill=\"#000000\" font-family=\"Times,serif\" font-size=\"14.00\" text-anchor=\"middle\" x=\"317\" y=\"-185.8\">flatten_2: Flatten</text>\n<polyline fill=\"none\" points=\"373.5,-166.5 373.5,-212.5 \" stroke=\"#000000\"/>\n<text fill=\"#000000\" font-family=\"Times,serif\" font-size=\"14.00\" text-anchor=\"middle\" x=\"402.5\" y=\"-197.3\">input:</text>\n<polyline fill=\"none\" points=\"373.5,-189.5 431.5,-189.5 \" stroke=\"#000000\"/>\n<text fill=\"#000000\" font-family=\"Times,serif\" font-size=\"14.00\" text-anchor=\"middle\" x=\"402.5\" y=\"-174.3\">output:</text>\n<polyline fill=\"none\" points=\"431.5,-166.5 431.5,-212.5 \" stroke=\"#000000\"/>\n<text fill=\"#000000\" font-family=\"Times,serif\" font-size=\"14.00\" text-anchor=\"middle\" x=\"475\" y=\"-197.3\">(None, 1, 2)</text>\n<polyline fill=\"none\" points=\"431.5,-189.5 518.5,-189.5 \" stroke=\"#000000\"/>\n<text fill=\"#000000\" font-family=\"Times,serif\" font-size=\"14.00\" text-anchor=\"middle\" x=\"475\" y=\"-174.3\">(None, 2)</text>\n</g>\n<!-- 140681819262704&#45;&gt;140681818335440 -->\n<g class=\"edge\" id=\"edge10\">\n<title>140681819262704-&gt;140681818335440</title>\n<path d=\"M389.5,-249.3799C389.5,-241.1745 389.5,-231.7679 389.5,-222.8786\" fill=\"none\" stroke=\"#000000\"/>\n<polygon fill=\"#000000\" points=\"393.0001,-222.784 389.5,-212.784 386.0001,-222.784 393.0001,-222.784\" stroke=\"#000000\"/>\n</g>\n<!-- 140681818336112 -->\n<g class=\"node\" id=\"node11\">\n<title>140681818336112</title>\n<polygon fill=\"none\" points=\"257.5,-83.5 257.5,-129.5 521.5,-129.5 521.5,-83.5 257.5,-83.5\" stroke=\"#000000\"/>\n<text fill=\"#000000\" font-family=\"Times,serif\" font-size=\"14.00\" text-anchor=\"middle\" x=\"324.5\" y=\"-102.8\">dropout_2: Dropout</text>\n<polyline fill=\"none\" points=\"391.5,-83.5 391.5,-129.5 \" stroke=\"#000000\"/>\n<text fill=\"#000000\" font-family=\"Times,serif\" font-size=\"14.00\" text-anchor=\"middle\" x=\"420.5\" y=\"-114.3\">input:</text>\n<polyline fill=\"none\" points=\"391.5,-106.5 449.5,-106.5 \" stroke=\"#000000\"/>\n<text fill=\"#000000\" font-family=\"Times,serif\" font-size=\"14.00\" text-anchor=\"middle\" x=\"420.5\" y=\"-91.3\">output:</text>\n<polyline fill=\"none\" points=\"449.5,-83.5 449.5,-129.5 \" stroke=\"#000000\"/>\n<text fill=\"#000000\" font-family=\"Times,serif\" font-size=\"14.00\" text-anchor=\"middle\" x=\"485.5\" y=\"-114.3\">(None, 2)</text>\n<polyline fill=\"none\" points=\"449.5,-106.5 521.5,-106.5 \" stroke=\"#000000\"/>\n<text fill=\"#000000\" font-family=\"Times,serif\" font-size=\"14.00\" text-anchor=\"middle\" x=\"485.5\" y=\"-91.3\">(None, 2)</text>\n</g>\n<!-- 140681818335440&#45;&gt;140681818336112 -->\n<g class=\"edge\" id=\"edge11\">\n<title>140681818335440-&gt;140681818336112</title>\n<path d=\"M389.5,-166.3799C389.5,-158.1745 389.5,-148.7679 389.5,-139.8786\" fill=\"none\" stroke=\"#000000\"/>\n<polygon fill=\"#000000\" points=\"393.0001,-139.784 389.5,-129.784 386.0001,-139.784 393.0001,-139.784\" stroke=\"#000000\"/>\n</g>\n<!-- 140681818336224 -->\n<g class=\"node\" id=\"node12\">\n<title>140681818336224</title>\n<polygon fill=\"none\" points=\"271,-.5 271,-46.5 508,-46.5 508,-.5 271,-.5\" stroke=\"#000000\"/>\n<text fill=\"#000000\" font-family=\"Times,serif\" font-size=\"14.00\" text-anchor=\"middle\" x=\"324.5\" y=\"-19.8\">dense_2: Dense</text>\n<polyline fill=\"none\" points=\"378,-.5 378,-46.5 \" stroke=\"#000000\"/>\n<text fill=\"#000000\" font-family=\"Times,serif\" font-size=\"14.00\" text-anchor=\"middle\" x=\"407\" y=\"-31.3\">input:</text>\n<polyline fill=\"none\" points=\"378,-23.5 436,-23.5 \" stroke=\"#000000\"/>\n<text fill=\"#000000\" font-family=\"Times,serif\" font-size=\"14.00\" text-anchor=\"middle\" x=\"407\" y=\"-8.3\">output:</text>\n<polyline fill=\"none\" points=\"436,-.5 436,-46.5 \" stroke=\"#000000\"/>\n<text fill=\"#000000\" font-family=\"Times,serif\" font-size=\"14.00\" text-anchor=\"middle\" x=\"472\" y=\"-31.3\">(None, 2)</text>\n<polyline fill=\"none\" points=\"436,-23.5 508,-23.5 \" stroke=\"#000000\"/>\n<text fill=\"#000000\" font-family=\"Times,serif\" font-size=\"14.00\" text-anchor=\"middle\" x=\"472\" y=\"-8.3\">(None, 1)</text>\n</g>\n<!-- 140681818336112&#45;&gt;140681818336224 -->\n<g class=\"edge\" id=\"edge12\">\n<title>140681818336112-&gt;140681818336224</title>\n<path d=\"M389.5,-83.3799C389.5,-75.1745 389.5,-65.7679 389.5,-56.8786\" fill=\"none\" stroke=\"#000000\"/>\n<polygon fill=\"#000000\" points=\"393.0001,-56.784 389.5,-46.784 386.0001,-56.784 393.0001,-56.784\" stroke=\"#000000\"/>\n</g>\n</g>\n</svg>"
          },
          "metadata": {
            "tags": []
          },
          "execution_count": 27
        }
      ]
    },
    {
      "metadata": {
        "id": "YYEqUyvrTupK",
        "colab_type": "text"
      },
      "cell_type": "markdown",
      "source": [
        "Compile config."
      ]
    },
    {
      "metadata": {
        "id": "PtkdmRdVFS7s",
        "colab_type": "code",
        "colab": {}
      },
      "cell_type": "code",
      "source": [
        "def f1(y_true, y_pred):\n",
        "    return tf.py_func(f1_score, (y_true, y_pred > 0.5), tf.double)\n",
        "\n",
        "compile_config = {'loss': 'binary_crossentropy', 'metrics': ['acc', f1]}"
      ],
      "execution_count": 0,
      "outputs": []
    },
    {
      "metadata": {
        "id": "Xh5WWefCTsBe",
        "colab_type": "text"
      },
      "cell_type": "markdown",
      "source": [
        "Callbacks."
      ]
    },
    {
      "metadata": {
        "id": "LPTjIkd-FTpI",
        "colab_type": "code",
        "colab": {}
      },
      "cell_type": "code",
      "source": [
        "def checkpointer(name='model', save_weights_only=True):\n",
        "    return ModelCheckpoint(path + 'weights/' + str(name) + '.hdf5',\n",
        "                           'val_f1', mode='max', verbose=1,\n",
        "                           save_best_only=True,\n",
        "                           save_weights_only=save_weights_only)\n",
        "\n",
        "def earlystopper(patience=3):\n",
        "    return EarlyStopping('val_f1', patience=patience, verbose=1, mode='max',\n",
        "                         restore_best_weights=True)\n",
        "\n",
        "def lr_reducer(patience=1):\n",
        "    return ReduceLROnPlateau('val_f1', 0.5, patience, 1, 'max')"
      ],
      "execution_count": 0,
      "outputs": []
    },
    {
      "metadata": {
        "id": "wDBfkLOZVgVT",
        "colab_type": "text"
      },
      "cell_type": "markdown",
      "source": [
        "### 2.2 Choose region size\n",
        "\n",
        "By holdout cross-validation and big batch size for speed.\n",
        "\n",
        "- Line-search over the single filter region size to find the ‘best’ single region size. \n",
        "- It may be worth exploring combining multiple filters using regions sizes near this single best size."
      ]
    },
    {
      "metadata": {
        "id": "zZIGwjuaB1vO",
        "colab_type": "text"
      },
      "cell_type": "markdown",
      "source": [
        "#### 2.2.1 Single region size"
      ]
    },
    {
      "metadata": {
        "id": "WBkBsxuc4wnb",
        "colab_type": "code",
        "colab": {}
      },
      "cell_type": "code",
      "source": [
        "single_region_sizes = [1, 3, 5, 7, 9, 11, 13, 15]\n",
        "single_f1s = []\n",
        "# single_f1s = [0.9240704040900427, 0.9419539729588094, 0.946276105089114,\n",
        "#               0.949119298415185, 0.9507171235806062, 0.9521449645421297,\n",
        "#               0.7933238256923938, 0.783414052232246]\n",
        "\n",
        "for region_size in single_region_sizes[len(single_f1s):]:\n",
        "    print('region_size:', region_size)\n",
        "    model = text_cnn([region_size])\n",
        "    model.compile(optimizer=Adam(clipnorm=3), **compile_config)\n",
        "    model.fit(X_train, y_train, batch_size=512, epochs=200, verbose=0,\n",
        "              validation_data=(X_val, y_val), \n",
        "              callbacks=[checkpointer(), earlystopper(), lr_reducer()])\n",
        "    single_f1s.append(f1_score(y_val, model.predict(X_val) > 0.5))\n",
        "    print('f1s so far:', single_f1s)"
      ],
      "execution_count": 0,
      "outputs": []
    },
    {
      "metadata": {
        "id": "eEBDcArdCs2G",
        "colab_type": "code",
        "colab": {}
      },
      "cell_type": "code",
      "source": [
        "def best_size_f1(sizes, f1s):\n",
        "    best_index = np.argmax(f1s)\n",
        "    best_size = sizes[best_index]\n",
        "    best_f1 = f1s[best_index]\n",
        "    print('best region_size:', best_size)\n",
        "    print('f1 on val:', best_f1)\n",
        "    print('\\nsize', 'f1', sep='\\t')\n",
        "    for size, f1 in zip(sizes, f1s):\n",
        "        print(size, f1, sep='\\t')\n",
        "    return best_size, best_f1"
      ],
      "execution_count": 0,
      "outputs": []
    },
    {
      "metadata": {
        "id": "2e3FdDGc0P9S",
        "colab_type": "code",
        "colab": {}
      },
      "cell_type": "code",
      "source": [
        "best_single_size, best_single_f1s = best_size_f1(single_region_sizes, \n",
        "                                                 single_f1s)"
      ],
      "execution_count": 0,
      "outputs": []
    },
    {
      "metadata": {
        "colab_type": "text",
        "id": "bnSZqRVRDfvI"
      },
      "cell_type": "markdown",
      "source": [
        "#### 2.2.2 Multiple region size"
      ]
    },
    {
      "metadata": {
        "id": "Hii0kRxADkEf",
        "colab_type": "code",
        "colab": {}
      },
      "cell_type": "code",
      "source": [
        "def gen_multi_region_sizes(size):\n",
        "    size_range = [size - 1, size, size + 1] if size > 1 else [1, 2, 3]\n",
        "    return list({tuple(sorted([s1, s2, s3])) for s1 in size_range\n",
        "                 for s2 in size_range for s3 in size_range})\n",
        "\n",
        "multi_region_sizes = gen_multi_region_sizes(best_single_size)\n",
        "multi_f1s = []\n",
        "# multi_f1s = [0.9550137817072694, 0.9531340011912312, 0.9535508304667741, \n",
        "#              0.9536456192051067, 0.9505853533541159]\n",
        "\n",
        "for region_size in multi_region_sizes[len(multi_f1s):]:\n",
        "    print('region_size:', region_size)\n",
        "    model = text_cnn(region_size)\n",
        "    model.compile(optimizer=Adam(clipnorm=3), **compile_config)\n",
        "    model.fit(X_train, y_train, batch_size=512, epochs=200, verbose=0,\n",
        "              validation_data=(X_val, y_val),\n",
        "              callbacks=[checkpointer(), earlystopper(), lr_reducer()])\n",
        "    multi_f1s.append(f1_score(y_val, model.predict(X_val) > 0.5))\n",
        "    print('f1s so far:', multi_f1s)"
      ],
      "execution_count": 0,
      "outputs": []
    },
    {
      "metadata": {
        "id": "mN7OslKz6LlD",
        "colab_type": "code",
        "colab": {}
      },
      "cell_type": "code",
      "source": [
        "best_multi_size, best_multi_f1s = best_size_f1(multi_region_sizes, multi_f1s)"
      ],
      "execution_count": 0,
      "outputs": []
    },
    {
      "metadata": {
        "id": "PqAh1EbcArA0",
        "colab_type": "text"
      },
      "cell_type": "markdown",
      "source": [
        "#### 2.2.3 Final comparison"
      ]
    },
    {
      "metadata": {
        "id": "Qjt2mH_hAwwI",
        "colab_type": "code",
        "colab": {}
      },
      "cell_type": "code",
      "source": [
        "best_size, best_f1 = best_size_f1(single_region_sizes + multi_region_sizes, \n",
        "                                   single_f1s + multi_f1s)"
      ],
      "execution_count": 0,
      "outputs": []
    },
    {
      "metadata": {
        "id": "1wUCvxBPDmBQ",
        "colab_type": "text"
      },
      "cell_type": "markdown",
      "source": [
        "### 2.3 Train with small batch size"
      ]
    },
    {
      "metadata": {
        "id": "8P9PvUaCDper",
        "colab_type": "code",
        "colab": {}
      },
      "cell_type": "code",
      "source": [
        "model = text_cnn(best_size)\n",
        "model.compile(**compile_config)\n",
        "model.fit(X_train, y_train, batch_size=256, epochs=200, \n",
        "          validation_data=(X_val, y_val),\n",
        "          callbacks=[checkpointer('final_' + str(region_size), False),\n",
        "                     earlystopper(10), lr_reducer(3)])"
      ],
      "execution_count": 0,
      "outputs": []
    },
    {
      "metadata": {
        "id": "BEv0TLZk0KW7",
        "colab_type": "code",
        "colab": {}
      },
      "cell_type": "code",
      "source": [
        "# model = load_model(path + 'final_(10, 11, 11).hdf5', custom_objects={'f1': f1})"
      ],
      "execution_count": 0,
      "outputs": []
    },
    {
      "metadata": {
        "id": "ibFjLVkR55Ig",
        "colab_type": "code",
        "colab": {}
      },
      "cell_type": "code",
      "source": [
        "# f1_score(y_val, model.predict(X_val) > 0.5)"
      ],
      "execution_count": 0,
      "outputs": []
    },
    {
      "metadata": {
        "id": "_Wj1a2B2_H5A",
        "colab_type": "text"
      },
      "cell_type": "markdown",
      "source": [
        "### 2.4 Test"
      ]
    },
    {
      "metadata": {
        "id": "6ygyfeBkTH_w",
        "colab_type": "code",
        "outputId": "02c19a67-0d21-4f58-edc4-9287fa9c03ca",
        "colab": {
          "base_uri": "https://localhost:8080/",
          "height": 34
        }
      },
      "cell_type": "code",
      "source": [
        "f1_score(y_test, model.predict(X_test) > 0.5)"
      ],
      "execution_count": 0,
      "outputs": [
        {
          "output_type": "execute_result",
          "data": {
            "text/plain": [
              "0.9868052778888444"
            ]
          },
          "metadata": {
            "tags": []
          },
          "execution_count": 15
        }
      ]
    },
    {
      "metadata": {
        "id": "5lXiAQRS5YjR",
        "colab_type": "text"
      },
      "cell_type": "markdown",
      "source": [
        "## 3 Predict"
      ]
    },
    {
      "metadata": {
        "id": "_uEw6N5kRpat",
        "colab_type": "text"
      },
      "cell_type": "markdown",
      "source": [
        "Prediction time."
      ]
    },
    {
      "metadata": {
        "id": "hPXJGY1FA4ju",
        "colab_type": "code",
        "colab": {}
      },
      "cell_type": "code",
      "source": [
        "unlabelled = pd.read_csv(path + 'unlabelled.txt', header=None, nrows=1000)[0].tolist()"
      ],
      "execution_count": 0,
      "outputs": []
    },
    {
      "metadata": {
        "id": "iAO4q9CSEtKo",
        "colab_type": "code",
        "colab": {}
      },
      "cell_type": "code",
      "source": [
        "ts = []\n",
        "for i in range(100):\n",
        "    t1 = time.time()\n",
        "    X_unseen = pad_sequences([[word_index[w]\n",
        "                               if w in word_index.keys() else word_index['<UNK>'] \n",
        "                               for w in jieba.cut_for_search(text)]\n",
        "                              for text in unlabelled], maxlen=256)\n",
        "    model.predict(X_unseen)\n",
        "    t2 = time.time()\n",
        "    ts.append(t2 - t1)"
      ],
      "execution_count": 0,
      "outputs": []
    },
    {
      "metadata": {
        "id": "-0-9QSyQOtcO",
        "colab_type": "code",
        "outputId": "60d18795-338d-4bfe-90f1-e6d1fa2a716a",
        "colab": {
          "base_uri": "https://localhost:8080/",
          "height": 34
        }
      },
      "cell_type": "code",
      "source": [
        "print(sum(ts) / 100, 's for 1000 msgs.')"
      ],
      "execution_count": 0,
      "outputs": [
        {
          "output_type": "stream",
          "text": [
            "0.3472757625579834 s for 1000 msgs.\n"
          ],
          "name": "stdout"
        }
      ]
    },
    {
      "metadata": {
        "id": "ski2UpF9cGem",
        "colab_type": "text"
      },
      "cell_type": "markdown",
      "source": [
        "Seeing is believing."
      ]
    },
    {
      "metadata": {
        "id": "6H4yqpSaQPx1",
        "colab_type": "code",
        "outputId": "a2b2aa98-1867-4f83-9132-839b4c00aa76",
        "colab": {
          "base_uri": "https://localhost:8080/",
          "height": 85
        }
      },
      "cell_type": "code",
      "source": [
        "X_show = ['.x月xx日推出凭证式国债x年期x.xx.xx%，x年期x.xx%到期一次还本付息。真情邮政，为您竭诚服务！  咨询电话xxxx-xx',\n",
        "'一边是爱琴海7日浪漫之旅~和公司同事们~一边是南京双排7日撸啊撸之旅~和基友~怎么选择好纠结',\n",
        "\"庆x'x节本会所优惠活动，为答谢新老顾客的支持与厚爱，，面部特卡:xxx元/xx次，身体活动，带脉减小肚腩:xxxx元/xx次，，肠胃\",\n",
        "'著名医学专家、北京军区总医院主任医师华益慰图丨健康时报文丨新华网、健康时报这篇文章']\n",
        "\n",
        "for text in X_show:\n",
        "    t1 = time.time()\n",
        "    X_show = pad_sequences([[word_index[w]\n",
        "                             if w in word_index.keys() else word_index['<UNK>'] \n",
        "                             for w in jieba.cut_for_search(text)]], maxlen=256)    \n",
        "    y_show = model.predict(X_show)[0][0]\n",
        "    t2 = time.time()\n",
        "    print(t2 - t1, 's , confidence:', y_show if y_show > 0.5 else 1 - y_show)"
      ],
      "execution_count": 0,
      "outputs": [
        {
          "output_type": "stream",
          "text": [
            "0.005984783172607422 s , confidence: 1.0\n",
            "0.005811452865600586 s , confidence: 0.9999410322234326\n",
            "0.005015850067138672 s , confidence: 1.0\n",
            "0.003549337387084961 s , confidence: 0.9999605094999424\n"
          ],
          "name": "stdout"
        }
      ]
    }
  ]
}